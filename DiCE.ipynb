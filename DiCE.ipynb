{
 "cells": [
  {
   "cell_type": "code",
   "execution_count": 1,
   "id": "ff20755d-a722-4d3a-9f27-f949063babd2",
   "metadata": {},
   "outputs": [],
   "source": [
    "# Import packages\n",
    "import numpy as np\n",
    "import matplotlib.pyplot as plt\n",
    "import matplotlib\n",
    "from sklearn import svm, datasets\n",
    "import sklearn\n",
    "import sklearn.inspection\n",
    "from matplotlib.lines import Line2D\n",
    "import scipy\n",
    "from sklearn.compose import ColumnTransformer\n",
    "from sklearn.model_selection import train_test_split\n",
    "from sklearn.pipeline import Pipeline\n",
    "from sklearn.preprocessing import OneHotEncoder\n",
    "from sklearn.ensemble import RandomForestClassifier\n",
    "import dice_ml\n",
    "from dice_ml.utils import helpers\n",
    "import pandas as pd"
   ]
  },
  {
   "cell_type": "code",
   "execution_count": 2,
   "id": "e95e3b2b-f6c6-4795-ad52-b7cbdffe2c9b",
   "metadata": {},
   "outputs": [],
   "source": [
    "# Create dataset\n",
    "X = np.array([\n",
    "    [0.715, -0.28728070175438597],\n",
    "    [1.425, -1.8712406015037595],\n",
    "    [1.065, -1.7709899749373434],\n",
    "    [0.595, -1.6506892230576442],\n",
    "    [0.465, -1.4000626566416041],\n",
    "    [0.785, -1.3900375939849625],\n",
    "    [0.815, -1.630639097744361],\n",
    "    [0.805, -1.8211152882205515],\n",
    "    [0.365, -1.7609649122807018],\n",
    "    [0.195, -1.2296365914786966],\n",
    "    [0.455, -1.2095864661654134],\n",
    "    [0.685, -1.1795112781954886],\n",
    "    [0.755, -0.7584586466165414],\n",
    "    [0.255, -0.28728070175438597],\n",
    "    [0.515, -0.1168546365914787],\n",
    "    [0.325, -0.5780075187969925],\n",
    "    [0.335, -0.9689849624060151],\n",
    "    [0.765, -0.5579573934837093],\n",
    "    [0.915, -0.5379072681704261],\n",
    "    [0.945, -0.6481829573934837],\n",
    "    [0.865, -0.17700501253132833],\n",
    "    [1.245, -1.119360902255639],\n",
    "    [1.355, -1.1995614035087718],\n",
    "    [1.585, -1.4501879699248121],\n",
    "    [1.775, -1.6907894736842106],\n",
    "    [1.595, -1.7609649122807018],\n",
    "    [1.365, -1.6406641604010026],\n",
    "    [1.325, -0.9288847117794486],\n",
    "    [1.475, -0.6381578947368421],\n",
    "    [1.715, -0.3674812030075188],\n",
    "    [2.225, -0.6080827067669173],\n",
    "    [1.875, -0.8787593984962406],\n",
    "    [1.605, -1.1093358395989974],\n",
    "    [2.015, -1.269736842105263],\n",
    "    [2.355, -1.0491854636591478],\n",
    "    [2.125, -0.49780701754385964],\n",
    "    [1.775, -0.1068295739348371],\n",
    "    [1.265, -0.16697994987468673],\n",
    "    [0.945, -0.16697994987468673],\n",
    "    [1.285, -0.45770676691729323],\n",
    "    [2.145, -1.6206140350877194],\n",
    "    [2.145, -0.9990601503759399]]\n",
    ")\n",
    "y = np.array([0, 0, 0, 0, 0, 0, 0, 0, 0, 0, 0, 0, 0, 0, 0, 0, 0, 0, 0, 0, 0, 1, 1, 1, 1, 1, 1, 1, 1, 1, 1, 1, 1, 1, 1, 1, 1, 1, 1, 1, 1, 1])"
   ]
  },
  {
   "cell_type": "code",
   "execution_count": 3,
   "id": "2b4b5a49-b96b-4252-a0d8-f4377d970026",
   "metadata": {},
   "outputs": [
    {
     "name": "stdout",
     "output_type": "stream",
     "text": [
      "Synthetic dataset:\n",
      "     x_1       x_2  y\n",
      "0  0.715 -0.287281  0\n",
      "1  1.425 -1.871241  0\n",
      "2  1.065 -1.770990  0\n",
      "3  0.595 -1.650689  0\n",
      "4  0.465 -1.400063  0\n"
     ]
    }
   ],
   "source": [
    "# Build a dataframe because DiCE requires one\n",
    "df = pd.DataFrame({'x_1': X[:, 0], 'x_2': X[:, 1], 'y': y})\n",
    "\n",
    "print(\"Synthetic dataset:\")\n",
    "print(df.head())"
   ]
  },
  {
   "cell_type": "code",
   "execution_count": 4,
   "id": "59d49725-5f13-4383-b4b6-9bff028c0608",
   "metadata": {},
   "outputs": [],
   "source": [
    "# Construct DiCE data\n",
    "d = dice_ml.Data(dataframe=df, continuous_features=['x_1', 'x_2'], outcome_name='y')"
   ]
  },
  {
   "cell_type": "code",
   "execution_count": 5,
   "id": "411b3963-5161-4bcf-9b74-4fc83c83c834",
   "metadata": {},
   "outputs": [],
   "source": [
    "# Build and fit the model\n",
    "svc = svm.SVC(kernel=\"poly\", degree=5, gamma=\"auto\", C=1.0, probability=True)\n",
    "\n",
    "clf = Pipeline(steps=[('classifier', svc)])\n",
    "model = clf.fit(df[[\"x_1\", \"x_2\"]], y)"
   ]
  },
  {
   "cell_type": "code",
   "execution_count": 6,
   "id": "059cfc35-acf6-4e76-97c7-737e7721460d",
   "metadata": {},
   "outputs": [
    {
     "data": {
      "text/plain": [
       "array([0])"
      ]
     },
     "execution_count": 6,
     "metadata": {},
     "output_type": "execute_result"
    }
   ],
   "source": [
    "# Test the prediction\n",
    "clf.predict(pd.DataFrame({'x_1': [1], 'x_2': [1]}))"
   ]
  },
  {
   "cell_type": "code",
   "execution_count": 7,
   "id": "587e542f-4922-4d70-abb0-f3f5d4b31f8a",
   "metadata": {},
   "outputs": [],
   "source": [
    "# Build the DiCE model and explanation object\n",
    "m = dice_ml.Model(model=model, backend=\"sklearn\")\n",
    "exp = dice_ml.Dice(d, m, method=\"random\")"
   ]
  },
  {
   "cell_type": "code",
   "execution_count": 23,
   "id": "05668b24-4989-4a11-bc9d-f666a3f9da79",
   "metadata": {},
   "outputs": [
    {
     "name": "stderr",
     "output_type": "stream",
     "text": [
      "100%|████████████████████████████████████████████████████████████████████████████████████| 1/1 [00:00<00:00, 21.28it/s]"
     ]
    },
    {
     "name": "stdout",
     "output_type": "stream",
     "text": [
      "Query instance (original outcome : 0)\n"
     ]
    },
    {
     "name": "stderr",
     "output_type": "stream",
     "text": [
      "\n"
     ]
    },
    {
     "data": {
      "text/html": [
       "<div>\n",
       "<style scoped>\n",
       "    .dataframe tbody tr th:only-of-type {\n",
       "        vertical-align: middle;\n",
       "    }\n",
       "\n",
       "    .dataframe tbody tr th {\n",
       "        vertical-align: top;\n",
       "    }\n",
       "\n",
       "    .dataframe thead th {\n",
       "        text-align: right;\n",
       "    }\n",
       "</style>\n",
       "<table border=\"1\" class=\"dataframe\">\n",
       "  <thead>\n",
       "    <tr style=\"text-align: right;\">\n",
       "      <th></th>\n",
       "      <th>x_1</th>\n",
       "      <th>x_2</th>\n",
       "      <th>y</th>\n",
       "    </tr>\n",
       "  </thead>\n",
       "  <tbody>\n",
       "    <tr>\n",
       "      <th>0</th>\n",
       "      <td>0.6</td>\n",
       "      <td>-1.0</td>\n",
       "      <td>0</td>\n",
       "    </tr>\n",
       "  </tbody>\n",
       "</table>\n",
       "</div>"
      ],
      "text/plain": [
       "   x_1  x_2  y\n",
       "0  0.6 -1.0  0"
      ]
     },
     "metadata": {},
     "output_type": "display_data"
    },
    {
     "name": "stdout",
     "output_type": "stream",
     "text": [
      "\n",
      "Diverse Counterfactual set (new outcome: 1.0)\n"
     ]
    },
    {
     "data": {
      "text/html": [
       "<div>\n",
       "<style scoped>\n",
       "    .dataframe tbody tr th:only-of-type {\n",
       "        vertical-align: middle;\n",
       "    }\n",
       "\n",
       "    .dataframe tbody tr th {\n",
       "        vertical-align: top;\n",
       "    }\n",
       "\n",
       "    .dataframe thead th {\n",
       "        text-align: right;\n",
       "    }\n",
       "</style>\n",
       "<table border=\"1\" class=\"dataframe\">\n",
       "  <thead>\n",
       "    <tr style=\"text-align: right;\">\n",
       "      <th></th>\n",
       "      <th>x_1</th>\n",
       "      <th>x_2</th>\n",
       "      <th>y</th>\n",
       "    </tr>\n",
       "  </thead>\n",
       "  <tbody>\n",
       "    <tr>\n",
       "      <th>0</th>\n",
       "      <td>1.778</td>\n",
       "      <td>-</td>\n",
       "      <td>1.0</td>\n",
       "    </tr>\n",
       "    <tr>\n",
       "      <th>1</th>\n",
       "      <td>2.165</td>\n",
       "      <td>-</td>\n",
       "      <td>1.0</td>\n",
       "    </tr>\n",
       "    <tr>\n",
       "      <th>2</th>\n",
       "      <td>2.05</td>\n",
       "      <td>-1.57198973</td>\n",
       "      <td>1.0</td>\n",
       "    </tr>\n",
       "  </tbody>\n",
       "</table>\n",
       "</div>"
      ],
      "text/plain": [
       "     x_1          x_2    y\n",
       "0  1.778            -  1.0\n",
       "1  2.165            -  1.0\n",
       "2   2.05  -1.57198973  1.0"
      ]
     },
     "metadata": {},
     "output_type": "display_data"
    }
   ],
   "source": [
    "# Generate three counterfactuals for a given x and visualize them\n",
    "x = pd.DataFrame({'x_1': [0.6], 'x_2': [-1]})\n",
    "\n",
    "e1 = exp.generate_counterfactuals(x, total_CFs=3, desired_class=\"opposite\")\n",
    "e1.visualize_as_dataframe(show_only_changes=True)"
   ]
  },
  {
   "cell_type": "code",
   "execution_count": 24,
   "id": "61e36477-85df-4e39-99f6-66bdbade2a4a",
   "metadata": {},
   "outputs": [
    {
     "data": {
      "text/plain": [
       "<sklearn.inspection._plot.decision_boundary.DecisionBoundaryDisplay at 0x1f781b69220>"
      ]
     },
     "execution_count": 24,
     "metadata": {},
     "output_type": "execute_result"
    },
    {
     "data": {
      "image/png": "[encoded data removed]",
      "text/plain": [
       "<Figure size 432x288 with 1 Axes>"
      ]
     },
     "metadata": {
      "needs_background": "light"
     },
     "output_type": "display_data"
    }
   ],
   "source": [
    "# Plot the counterfactuals\n",
    "fig, ax = plt.subplots()\n",
    "\n",
    "for i in range(len(X)):\n",
    "    plt.scatter(X[i, 0], X[i, 1], color=\"green\" if y[i] == 0 else \"red\", label=\"y=0\" if y[i] == 0 else \"y=1\", linewidths=0.5)\n",
    "\n",
    "    \n",
    "plt.scatter(0.6, -1, color=\"green\", marker=\"x\")\n",
    "plt.scatter(1.778, -1, color=\"red\", marker=\"x\")\n",
    "plt.scatter(2.165, -1, color=\"red\", marker=\"x\")\n",
    "plt.scatter(2.05, -1.57198973, color=\"red\", marker=\"x\")\n",
    "\n",
    "legend_elements = [Line2D([0], [0], marker='o', color='w', label='y = 0', markerfacecolor='g', markersize=10),\n",
    "                   Line2D([0], [0], marker='o', color='w', label='y = 1', markerfacecolor='r', markersize=10)]\n",
    "plt.legend(handles=legend_elements)\n",
    "\n",
    "sklearn.inspection.DecisionBoundaryDisplay.from_estimator(\n",
    "        model,\n",
    "        df[[\"x_1\", \"x_2\"]],\n",
    "        response_method=\"predict\",\n",
    "        cmap=matplotlib.colors.ListedColormap([\"green\", \"red\"]),\n",
    "        alpha=0.25,\n",
    "        ax=ax,\n",
    "        xlabel=\"$x_1$\",\n",
    "        ylabel=\"$x_2$\",\n",
    "    )\n",
    "\n",
    "# plt.savefig(\"cf.svg\")"
   ]
  }
 ],
 "metadata": {
  "kernelspec": {
   "display_name": "Python 3 (ipykernel)",
   "language": "python",
   "name": "python3"
  },
  "language_info": {
   "codemirror_mode": {
    "name": "ipython",
    "version": 3
   },
   "file_extension": ".py",
   "mimetype": "text/x-python",
   "name": "python",
   "nbconvert_exporter": "python",
   "pygments_lexer": "ipython3",
   "version": "3.9.7"
  }
 },
 "nbformat": 4,
 "nbformat_minor": 5
}
