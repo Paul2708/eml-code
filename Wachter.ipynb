{
 "cells": [
  {
   "cell_type": "code",
   "execution_count": 10,
   "id": "310bb04d-ed76-437e-b214-26d6eda7a31e",
   "metadata": {},
   "outputs": [],
   "source": [
    "# Import packages\n",
    "import numpy as np\n",
    "import matplotlib.pyplot as plt\n",
    "import matplotlib\n",
    "from sklearn import svm, datasets\n",
    "import sklearn\n",
    "import sklearn.inspection\n",
    "from matplotlib.lines import Line2D\n",
    "import scipy"
   ]
  },
  {
   "cell_type": "code",
   "execution_count": 11,
   "id": "78dfe6d8-a61f-4909-8dc3-b85982be0138",
   "metadata": {},
   "outputs": [],
   "source": [
    "# Create dataset\n",
    "X = np.array([\n",
    "    [0.715, -0.28728070175438597],\n",
    "    [1.425, -1.8712406015037595],\n",
    "    [1.065, -1.7709899749373434],\n",
    "    [0.595, -1.6506892230576442],\n",
    "    [0.465, -1.4000626566416041],\n",
    "    [0.785, -1.3900375939849625],\n",
    "    [0.815, -1.630639097744361],\n",
    "    [0.805, -1.8211152882205515],\n",
    "    [0.365, -1.7609649122807018],\n",
    "    [0.195, -1.2296365914786966],\n",
    "    [0.455, -1.2095864661654134],\n",
    "    [0.685, -1.1795112781954886],\n",
    "    [0.755, -0.7584586466165414],\n",
    "    [0.255, -0.28728070175438597],\n",
    "    [0.515, -0.1168546365914787],\n",
    "    [0.325, -0.5780075187969925],\n",
    "    [0.335, -0.9689849624060151],\n",
    "    [0.765, -0.5579573934837093],\n",
    "    [0.915, -0.5379072681704261],\n",
    "    [0.945, -0.6481829573934837],\n",
    "    [0.865, -0.17700501253132833],\n",
    "    [1.245, -1.119360902255639],\n",
    "    [1.355, -1.1995614035087718],\n",
    "    [1.585, -1.4501879699248121],\n",
    "    [1.775, -1.6907894736842106],\n",
    "    [1.595, -1.7609649122807018],\n",
    "    [1.365, -1.6406641604010026],\n",
    "    [1.325, -0.9288847117794486],\n",
    "    [1.475, -0.6381578947368421],\n",
    "    [1.715, -0.3674812030075188],\n",
    "    [2.225, -0.6080827067669173],\n",
    "    [1.875, -0.8787593984962406],\n",
    "    [1.605, -1.1093358395989974],\n",
    "    [2.015, -1.269736842105263],\n",
    "    [2.355, -1.0491854636591478],\n",
    "    [2.125, -0.49780701754385964],\n",
    "    [1.775, -0.1068295739348371],\n",
    "    [1.265, -0.16697994987468673],\n",
    "    [0.945, -0.16697994987468673],\n",
    "    [1.285, -0.45770676691729323],\n",
    "    [2.145, -1.6206140350877194],\n",
    "    [2.145, -0.9990601503759399]]\n",
    ")\n",
    "y = np.array([0, 0, 0, 0, 0, 0, 0, 0, 0, 0, 0, 0, 0, 0, 0, 0, 0, 0, 0, 0, 0, 1, 1, 1, 1, 1, 1, 1, 1, 1, 1, 1, 1, 1, 1, 1, 1, 1, 1, 1, 1, 1])"
   ]
  },
  {
   "cell_type": "code",
   "execution_count": 12,
   "id": "4bcd090b-70ff-41b7-9fa6-7f661cbbb9dc",
   "metadata": {},
   "outputs": [
    {
     "name": "stdout",
     "output_type": "stream",
     "text": [
      "Number of instances: 42\n"
     ]
    },
    {
     "data": {
      "image/png": "[encoded data removed]",
      "text/plain": [
       "<Figure size 432x288 with 1 Axes>"
      ]
     },
     "metadata": {
      "needs_background": "light"
     },
     "output_type": "display_data"
    }
   ],
   "source": [
    "# Descriptive analysis of dataset\n",
    "print(f\"Number of instances: {len(X)}\")\n",
    "\n",
    "labels = np.unique(y)\n",
    "\n",
    "plt.title(\"Class Balanace\")\n",
    "for label in labels:\n",
    "    plt.bar(f\"Label: {label}\", np.sum(y == label))\n",
    "\n",
    "plt.show()"
   ]
  },
  {
   "cell_type": "code",
   "execution_count": 13,
   "id": "0dbf85e5-94d6-4ff5-a37b-5db6db3333e6",
   "metadata": {},
   "outputs": [
    {
     "data": {
      "image/png": "[encoded data removed]",
      "text/plain": [
       "<Figure size 432x288 with 1 Axes>"
      ]
     },
     "metadata": {
      "needs_background": "light"
     },
     "output_type": "display_data"
    }
   ],
   "source": [
    "# Plot points\n",
    "plt.title(\"Synthetic Dataset\")\n",
    "plt.xlabel(\"$x_1$\")\n",
    "plt.ylabel(\"$x_2$\")\n",
    "\n",
    "for i in range(len(X)):\n",
    "    plt.scatter(X[i, 0], X[i, 1], color=\"green\" if y[i] == 0 else \"red\", label=\"y=0\" if y[i] == 0 else \"y=1\")\n",
    "\n",
    "legend_elements = [Line2D([0], [0], marker='o', color='w', label='y = 0',\n",
    "                          markerfacecolor='g', markersize=10),\n",
    "                   Line2D([0], [0], marker='o', color='w', label='y = 1',\n",
    "                          markerfacecolor='r', markersize=10)\n",
    "                  ]\n",
    "plt.legend(handles=legend_elements)\n",
    "plt.show()\n",
    "# plt.savefig(\"dataset_plot.svg\")"
   ]
  },
  {
   "cell_type": "code",
   "execution_count": 14,
   "id": "8baeda54-ff5b-4838-9cfd-c009e647f7b5",
   "metadata": {},
   "outputs": [
    {
     "data": {
      "text/html": [
       "<style>#sk-container-id-2 {color: black;background-color: white;}#sk-container-id-2 pre{padding: 0;}#sk-container-id-2 div.sk-toggleable {background-color: white;}#sk-container-id-2 label.sk-toggleable__label {cursor: pointer;display: block;width: 100%;margin-bottom: 0;padding: 0.3em;box-sizing: border-box;text-align: center;}#sk-container-id-2 label.sk-toggleable__label-arrow:before {content: \"▸\";float: left;margin-right: 0.25em;color: #696969;}#sk-container-id-2 label.sk-toggleable__label-arrow:hover:before {color: black;}#sk-container-id-2 div.sk-estimator:hover label.sk-toggleable__label-arrow:before {color: black;}#sk-container-id-2 div.sk-toggleable__content {max-height: 0;max-width: 0;overflow: hidden;text-align: left;background-color: #f0f8ff;}#sk-container-id-2 div.sk-toggleable__content pre {margin: 0.2em;color: black;border-radius: 0.25em;background-color: #f0f8ff;}#sk-container-id-2 input.sk-toggleable__control:checked~div.sk-toggleable__content {max-height: 200px;max-width: 100%;overflow: auto;}#sk-container-id-2 input.sk-toggleable__control:checked~label.sk-toggleable__label-arrow:before {content: \"▾\";}#sk-container-id-2 div.sk-estimator input.sk-toggleable__control:checked~label.sk-toggleable__label {background-color: #d4ebff;}#sk-container-id-2 div.sk-label input.sk-toggleable__control:checked~label.sk-toggleable__label {background-color: #d4ebff;}#sk-container-id-2 input.sk-hidden--visually {border: 0;clip: rect(1px 1px 1px 1px);clip: rect(1px, 1px, 1px, 1px);height: 1px;margin: -1px;overflow: hidden;padding: 0;position: absolute;width: 1px;}#sk-container-id-2 div.sk-estimator {font-family: monospace;background-color: #f0f8ff;border: 1px dotted black;border-radius: 0.25em;box-sizing: border-box;margin-bottom: 0.5em;}#sk-container-id-2 div.sk-estimator:hover {background-color: #d4ebff;}#sk-container-id-2 div.sk-parallel-item::after {content: \"\";width: 100%;border-bottom: 1px solid gray;flex-grow: 1;}#sk-container-id-2 div.sk-label:hover label.sk-toggleable__label {background-color: #d4ebff;}#sk-container-id-2 div.sk-serial::before {content: \"\";position: absolute;border-left: 1px solid gray;box-sizing: border-box;top: 0;bottom: 0;left: 50%;z-index: 0;}#sk-container-id-2 div.sk-serial {display: flex;flex-direction: column;align-items: center;background-color: white;padding-right: 0.2em;padding-left: 0.2em;position: relative;}#sk-container-id-2 div.sk-item {position: relative;z-index: 1;}#sk-container-id-2 div.sk-parallel {display: flex;align-items: stretch;justify-content: center;background-color: white;position: relative;}#sk-container-id-2 div.sk-item::before, #sk-container-id-2 div.sk-parallel-item::before {content: \"\";position: absolute;border-left: 1px solid gray;box-sizing: border-box;top: 0;bottom: 0;left: 50%;z-index: -1;}#sk-container-id-2 div.sk-parallel-item {display: flex;flex-direction: column;z-index: 1;position: relative;background-color: white;}#sk-container-id-2 div.sk-parallel-item:first-child::after {align-self: flex-end;width: 50%;}#sk-container-id-2 div.sk-parallel-item:last-child::after {align-self: flex-start;width: 50%;}#sk-container-id-2 div.sk-parallel-item:only-child::after {width: 0;}#sk-container-id-2 div.sk-dashed-wrapped {border: 1px dashed gray;margin: 0 0.4em 0.5em 0.4em;box-sizing: border-box;padding-bottom: 0.4em;background-color: white;}#sk-container-id-2 div.sk-label label {font-family: monospace;font-weight: bold;display: inline-block;line-height: 1.2em;}#sk-container-id-2 div.sk-label-container {text-align: center;}#sk-container-id-2 div.sk-container {/* jupyter's `normalize.less` sets `[hidden] { display: none; }` but bootstrap.min.css set `[hidden] { display: none !important; }` so we also need the `!important` here to be able to override the default hidden behavior on the sphinx rendered scikit-learn.org. See: https://github.com/scikit-learn/scikit-learn/issues/21755 */display: inline-block !important;position: relative;}#sk-container-id-2 div.sk-text-repr-fallback {display: none;}</style><div id=\"sk-container-id-2\" class=\"sk-top-container\"><div class=\"sk-text-repr-fallback\"><pre>SVC(degree=5, gamma=&#x27;auto&#x27;, kernel=&#x27;poly&#x27;)</pre><b>In a Jupyter environment, please rerun this cell to show the HTML representation or trust the notebook. <br />On GitHub, the HTML representation is unable to render, please try loading this page with nbviewer.org.</b></div><div class=\"sk-container\" hidden><div class=\"sk-item\"><div class=\"sk-estimator sk-toggleable\"><input class=\"sk-toggleable__control sk-hidden--visually\" id=\"sk-estimator-id-2\" type=\"checkbox\" checked><label for=\"sk-estimator-id-2\" class=\"sk-toggleable__label sk-toggleable__label-arrow\">SVC</label><div class=\"sk-toggleable__content\"><pre>SVC(degree=5, gamma=&#x27;auto&#x27;, kernel=&#x27;poly&#x27;)</pre></div></div></div></div></div>"
      ],
      "text/plain": [
       "SVC(degree=5, gamma='auto', kernel='poly')"
      ]
     },
     "execution_count": 14,
     "metadata": {},
     "output_type": "execute_result"
    }
   ],
   "source": [
    "# Fit a two-class SVM on all points\n",
    "model = svm.SVC(kernel=\"poly\", degree=5, gamma=\"auto\", C=1.0)\n",
    "model.fit(X, y)"
   ]
  },
  {
   "cell_type": "code",
   "execution_count": 15,
   "id": "ef97ed3a-5c90-4595-8e0a-e4d2497c3b45",
   "metadata": {},
   "outputs": [
    {
     "data": {
      "text/plain": [
       "<sklearn.inspection._plot.decision_boundary.DecisionBoundaryDisplay at 0x1cb01929940>"
      ]
     },
     "execution_count": 15,
     "metadata": {},
     "output_type": "execute_result"
    },
    {
     "data": {
      "image/png": "[encoded data removed]",
      "text/plain": [
       "<Figure size 432x288 with 1 Axes>"
      ]
     },
     "metadata": {
      "needs_background": "light"
     },
     "output_type": "display_data"
    }
   ],
   "source": [
    "# Plot decision boundary\n",
    "fig, ax = plt.subplots()\n",
    "\n",
    "for i in range(len(X)):\n",
    "    ax.scatter(X[i, 0], X[i, 1], color=\"green\" if y[i] == 0 else \"red\", label=\"y=0\" if y[i] == 0 else \"y=1\", linewidths=0.5)\n",
    "\n",
    "legend_elements = [Line2D([0], [0], marker='o', color='w', label='y = 0', markerfacecolor='g', markersize=10),\n",
    "                   Line2D([0], [0], marker='o', color='w', label='y = 1', markerfacecolor='r', markersize=10)]\n",
    "plt.legend(handles=legend_elements)\n",
    "\n",
    "sklearn.inspection.DecisionBoundaryDisplay.from_estimator(\n",
    "        model,\n",
    "        X,\n",
    "        response_method=\"predict\",\n",
    "        cmap=matplotlib.colors.ListedColormap([\"green\", \"red\"]),\n",
    "        alpha=0.25,\n",
    "        ax=ax,\n",
    "        xlabel=\"$x_1$\",\n",
    "        ylabel=\"$x_2$\",\n",
    ")\n",
    "# plt.savefig(\"decision_boundary.svg\")"
   ]
  },
  {
   "cell_type": "code",
   "execution_count": 16,
   "id": "b1d83558-5989-4571-8d11-2502cadda9ad",
   "metadata": {},
   "outputs": [
    {
     "name": "stdout",
     "output_type": "stream",
     "text": [
      "Decision value: [-1.36603032]\n",
      "Prediction: [0]\n"
     ]
    }
   ],
   "source": [
    "# Test SVM predictions\n",
    "sample = np.array([[0.3, -1]])\n",
    "\n",
    "print(f\"Decision value: {model.decision_function(sample)}\")\n",
    "print(f\"Prediction: {model.predict(sample)}\")"
   ]
  },
  {
   "cell_type": "code",
   "execution_count": 17,
   "id": "8ebeeb29-c2f2-42d8-8d45-e7a0f7922ff6",
   "metadata": {},
   "outputs": [],
   "source": [
    "# Implement Wachter et al. algorithm\n",
    "def euclidean(a, b):\n",
    "    return np.sqrt(np.sum((a - b) ** 2))\n",
    "\n",
    "\n",
    "def manhatten(a, b):\n",
    "    return np.abs(a - b).sum()\n",
    "\n",
    "\n",
    "def wachter(x, counterfactual_outcome, d, start_value, eps):\n",
    "    lam = 1\n",
    "    counterfactual = start_value\n",
    "    \n",
    "    loss = lambda z: lam * (model.decision_function(np.array([z]))[0] - counterfactual_outcome) ** 2 + d(z, x)\n",
    "    \n",
    "    while np.abs(model.decision_function(np.array([counterfactual]))[0] - counterfactual_outcome) > eps:\n",
    "        lam += 1\n",
    "        counterfactual = scipy.optimize.minimize(loss, counterfactual).x\n",
    "    \n",
    "    return lam, counterfactual"
   ]
  },
  {
   "cell_type": "code",
   "execution_count": 18,
   "id": "1a367606-2d8a-4728-89ae-cfd0be04922a",
   "metadata": {},
   "outputs": [
    {
     "name": "stdout",
     "output_type": "stream",
     "text": [
      "Lambda: 8\n",
      "Counterfactual: [ 1.25290296 -1.        ]\n",
      "Currently, your input x=[ 0.6 -1. ] is classified as 0.\n",
      "To change the prediction to 1, you have to add 0.6529 on the first feature and -0.0000 on the second feature.\n"
     ]
    }
   ],
   "source": [
    "# Run the algorithm\n",
    "x = np.array([0.6, -1])\n",
    "counterfactual_outcome = 1\n",
    "\n",
    "lam, counterfactual = wachter(x, counterfactual_outcome=counterfactual_outcome, d=manhatten, start_value=np.array([0, 0]), eps=0.01)\n",
    "print(f\"Lambda: {lam}\")\n",
    "print(f\"Counterfactual: {counterfactual}\")\n",
    "\n",
    "# Formulate explanation\n",
    "print(f\"Currently, your input x={x} is classified as {model.predict(np.array([x]))[0]}.\") \n",
    "print(f\"To change the prediction to {counterfactual_outcome}, you have to add {counterfactual[0] - x[0]:.4f} on the first feature and {counterfactual[1] - x[1]:.4f} on the second feature.\")"
   ]
  },
  {
   "cell_type": "code",
   "execution_count": 19,
   "id": "f1574779-d476-4fad-848b-36ef7e3feb20",
   "metadata": {},
   "outputs": [
    {
     "data": {
      "text/plain": [
       "<sklearn.inspection._plot.decision_boundary.DecisionBoundaryDisplay at 0x1cb01a44fd0>"
      ]
     },
     "execution_count": 19,
     "metadata": {},
     "output_type": "execute_result"
    },
    {
     "data": {
      "image/png": "[encoded data removed]",
      "text/plain": [
       "<Figure size 432x288 with 1 Axes>"
      ]
     },
     "metadata": {
      "needs_background": "light"
     },
     "output_type": "display_data"
    }
   ],
   "source": [
    "# Plot the counterfactual\n",
    "fig, ax = plt.subplots()\n",
    "\n",
    "for i in range(len(X)):\n",
    "    plt.scatter(X[i, 0], X[i, 1], color=\"green\" if y[i] == 0 else \"red\", label=\"y=0\" if y[i] == 0 else \"y=1\", linewidths=0.5)\n",
    "\n",
    "    \n",
    "plt.scatter(x[0], x[1], color=\"green\", marker=\"x\")\n",
    "plt.scatter(counterfactual[0], counterfactual[1], color=\"red\", marker=\"x\")\n",
    "\n",
    "legend_elements = [Line2D([0], [0], marker='o', color='w', label='y = 0', markerfacecolor='g', markersize=10),\n",
    "                   Line2D([0], [0], marker='o', color='w', label='y = 1', markerfacecolor='r', markersize=10)]\n",
    "plt.legend(handles=legend_elements)\n",
    "\n",
    "sklearn.inspection.DecisionBoundaryDisplay.from_estimator(\n",
    "        model,\n",
    "        X,\n",
    "        response_method=\"predict\",\n",
    "        cmap=matplotlib.colors.ListedColormap([\"green\", \"red\"]),\n",
    "        alpha=0.25,\n",
    "        ax=ax,\n",
    "        xlabel=\"$x_1$\",\n",
    "        ylabel=\"$x_2$\",\n",
    "    )\n",
    "\n",
    "# plt.savefig(\"cf.svg\")"
   ]
  }
 ],
 "metadata": {
  "kernelspec": {
   "display_name": "Python 3 (ipykernel)",
   "language": "python",
   "name": "python3"
  },
  "language_info": {
   "codemirror_mode": {
    "name": "ipython",
    "version": 3
   },
   "file_extension": ".py",
   "mimetype": "text/x-python",
   "name": "python",
   "nbconvert_exporter": "python",
   "pygments_lexer": "ipython3",
   "version": "3.9.7"
  }
 },
 "nbformat": 4,
 "nbformat_minor": 5
}
